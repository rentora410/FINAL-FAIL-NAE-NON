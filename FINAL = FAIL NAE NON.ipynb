{
 "cells": [
  {
   "cell_type": "code",
   "execution_count": 37,
   "metadata": {},
   "outputs": [
    {
     "name": "stdout",
     "output_type": "stream",
     "text": [
      "Requirement already satisfied: opencv-contrib-python==4.5.3.56 in c:\\users\\ratel\\appdata\\local\\programs\\python\\python39\\lib\\site-packages (4.5.3.56)\n",
      "Requirement already satisfied: numpy>=1.19.3 in c:\\users\\ratel\\appdata\\local\\programs\\python\\python39\\lib\\site-packages (from opencv-contrib-python==4.5.3.56) (1.21.4)\n"
     ]
    },
    {
     "name": "stderr",
     "output_type": "stream",
     "text": [
      "WARNING: You are using pip version 21.2.3; however, version 21.3.1 is available.\n",
      "You should consider upgrading via the 'C:\\Users\\RATeL\\AppData\\Local\\Programs\\Python\\Python39\\python.exe -m pip install --upgrade pip' command.\n"
     ]
    }
   ],
   "source": [
    "!pip install  opencv-contrib-python==4.5.3.56\n",
    "import numpy as np\n",
    "import cv2 \n",
    "import scipy\n",
    "import matplotlib.pylab as plt\n",
    "from skimage import io"
   ]
  },
  {
   "cell_type": "code",
   "execution_count": 38,
   "metadata": {},
   "outputs": [],
   "source": [
    "sift = cv2.SIFT_create()\n",
    "bf = cv2.BFMatcher()"
   ]
  },
  {
   "cell_type": "code",
   "execution_count": 39,
   "metadata": {},
   "outputs": [],
   "source": [
    "def preprocessing(img) :\n",
    "    img_gray = cv2.cvtColor(img, cv2.COLOR_BGR2GRAY)\n",
    "    #img = cv2.cvtColor(img, cv2.COLOR_BGR2RGB)\n",
    "    return (img, img_gray)"
   ]
  },
  {
   "cell_type": "code",
   "execution_count": 40,
   "metadata": {},
   "outputs": [],
   "source": [
    "def feature_object_detection(template_img, template_gray, query_vid, query_gray, min_match_number) :\n",
    "    template_kpts, template_desc = sift.detectAndCompute(template_gray, None)\n",
    "    query_kpts, query_desc = sift.detectAndCompute(query_gray, None)\n",
    "    matches = bf.knnMatch(template_desc, query_desc, k=2)\n",
    "    good_matches = list()\n",
    "    good_matches_list = list()\n",
    "    for m, n in matches :\n",
    "        if m.distance < 0.7*n.distance :\n",
    "            good_matches.append(m)\n",
    "            good_matches_list.append([m])\n",
    "    \n",
    "    if len(good_matches) > min_match_number :\n",
    "        src_pts = np.float32([ template_kpts[m.queryIdx].pt for m in good_matches ]).reshape(-1,1,2)\n",
    "        dst_pts = np.float32([ query_kpts[m.trainIdx].pt for m in good_matches ]).reshape(-1,1,2)\n",
    "\n",
    "        H, inlier_masks = cv2.findHomography(src_pts, dst_pts, cv2.RANSAC, 2) # H RANSAC\n",
    "        # get the bounding box around template image\n",
    "        h, w = template_img.shape[:2]\n",
    "        template_box = np.float32([[0, 0], [0, h-1], [w-1, h-1], [w-1, 0]]).reshape(-1,1,2)\n",
    "        transformed_box = cv2.perspectiveTransform(template_box, H)\n",
    "\n",
    "        detected_vid = cv2.polylines(query_vid, [np.int32(transformed_box)], True, (0,0,255), 2, cv2.LINE_AA)\n",
    "        drawmatch_vid = cv2.drawMatchesKnn(template_img, template_kpts, detected_vid, query_kpts, good_matches_list, None, flags=2, matchesMask=inlier_masks)\n",
    "\n",
    "        return detected_vid, drawmatch_vid\n",
    "    else :\n",
    "        return"
   ]
  },
  {
   "cell_type": "code",
   "execution_count": 51,
   "metadata": {},
   "outputs": [],
   "source": [
    "vid = cv2.VideoCapture('./videos/final_exam/Dataset-1/left_output-1.avi')\n",
    "\n",
    "while vid.isOpened() :\n",
    "    ret, frame = vid.read()\n",
    "\n",
    "        \n",
    "    if ret :\n",
    "\n",
    "        frame_gray = cv2.cvtColor(frame, cv2.COLOR_BGR2GRAY)\n",
    "        template_img = cv2.imread('./images/final_exam/Templates/Template-1.png')\n",
    "        template_img, template_gray = preprocessing(template_img) \n",
    "        query_vid, query_gray = preprocessing(frame)\n",
    "\n",
    "        kernel = np.array([[0,0,0],[0,1.5,0],[0,0,0]],dtype=np.float32)\n",
    "        query_gray = cv2.filter2D(frame_gray,-3,kernel)\n",
    "        \n",
    "        feature_object_detection(template_img, template_gray, query_vid, query_gray, 14)\n",
    "        cv2.imshow('Query more like Q myself', frame)\n",
    "\n",
    "        if cv2.waitKey(int(1000/30)) & 0xFF == ord('q') : # this line control the period between image frame\n",
    "            break\n",
    "    else :\n",
    "        break\n",
    "vid.release()\n",
    "cv2.destroyAllWindows()"
   ]
  }
 ],
 "metadata": {
  "interpreter": {
   "hash": "f03d91166749388cceba4409bf678bfd66bee2cc410df7420792e8571e0fae36"
  },
  "kernelspec": {
   "display_name": "Python 3.9.7 64-bit",
   "language": "python",
   "name": "python3"
  },
  "language_info": {
   "codemirror_mode": {
    "name": "ipython",
    "version": 3
   },
   "file_extension": ".py",
   "mimetype": "text/x-python",
   "name": "python",
   "nbconvert_exporter": "python",
   "pygments_lexer": "ipython3",
   "version": "3.9.7"
  },
  "orig_nbformat": 4
 },
 "nbformat": 4,
 "nbformat_minor": 2
}
